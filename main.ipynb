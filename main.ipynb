{
 "cells": [
  {
   "cell_type": "code",
   "execution_count": 1,
   "metadata": {},
   "outputs": [
    {
     "name": "stdout",
     "output_type": "stream",
     "text": [
      "---- Stock Ledger ----\n",
      "AAPL: 45 (20 shares), 75 (20 shares), \n",
      "MSFT: 95 (20 shares), \n",
      "Sold 30 shares of AAPL for a total gain/loss of $300.00\n",
      "---- Stock Ledger ----\n",
      "AAPL: 75 (10 shares), \n",
      "MSFT: 95 (20 shares), \n",
      "Sold 10 shares of AAPL for a total gain/loss of $-100.00\n",
      "---- Stock Ledger ----\n",
      "AAPL: \n",
      "MSFT: 95 (20 shares), \n",
      "---- Stock Ledger ----\n",
      "AAPL: 20 (100 shares), 24 (20 shares), \n",
      "MSFT: 95 (20 shares), \n",
      "TSLA: 36 (200 shares), \n",
      "Sold 10 shares of AAPL for a total gain/loss of $450.00\n",
      "---- Stock Ledger ----\n",
      "AAPL: 24 (20 shares), 20 (90 shares), \n",
      "MSFT: 95 (20 shares), \n",
      "TSLA: 36 (200 shares), \n",
      "Sold 150 shares of TSLA for a total gain/loss of $-900.00\n",
      "---- Stock Ledger ----\n",
      "AAPL: 24 (20 shares), 20 (90 shares), \n",
      "MSFT: 95 (20 shares), \n",
      "TSLA: 36 (50 shares), \n",
      "---- Stock Ledger ----\n",
      "AAPL: 24 (20 shares), 20 (90 shares), \n",
      "MSFT: 95 (20 shares), 60 (5 shares), 70 (5 shares), \n",
      "TSLA: 36 (50 shares), \n",
      "Sold 4 shares of MSFT for a total gain/loss of $-260.00\n",
      "---- Stock Ledger ----\n",
      "AAPL: 24 (20 shares), 20 (90 shares), \n",
      "MSFT: 60 (5 shares), 70 (5 shares), 95 (16 shares), \n",
      "TSLA: 36 (50 shares), \n",
      "Sold 2 shares of MSFT for a total gain/loss of $-60.00\n",
      "---- Stock Ledger ----\n",
      "AAPL: 24 (20 shares), 20 (90 shares), \n",
      "MSFT: 70 (5 shares), 95 (16 shares), 60 (3 shares), \n",
      "TSLA: 36 (50 shares), \n"
     ]
    }
   ],
   "source": [
    "from stock_ledger import StockLedger\n",
    "from stock_purchase import StockPurchase\n",
    "\n",
    "ledger = StockLedger()\n",
    "\n",
    "# Buy stocks\n",
    "ledger.buy('AAPL', 20, 45)\n",
    "ledger.buy('AAPL', 20, 75)\n",
    "ledger.buy('MSFT', 20, 95)\n",
    "ledger.display_ledger()\n",
    "\n",
    "# Sell stock\n",
    "ledger.sell('AAPL', 30, 65)\n",
    "ledger.display_ledger()\n",
    "\n",
    "ledger.sell('AAPL', 10, 65)\n",
    "ledger.display_ledger()\n",
    "\n",
    "ledger.buy('AAPL', 100, 20)\n",
    "ledger.buy('AAPL', 20, 24)\n",
    "ledger.buy('TSLA', 200, 36)\n",
    "ledger.display_ledger()\n",
    "\n",
    "ledger.sell('AAPL', 10, 65)\n",
    "ledger.display_ledger()\n",
    "\n",
    "ledger.sell('TSLA', 150, 30)\n",
    "ledger.display_ledger()\n",
    "\n",
    "ledger.buy('MSFT', 5, 60)\n",
    "ledger.buy('MSFT', 5, 70)\n",
    "ledger.display_ledger()\n",
    "\n",
    "ledger.sell('MSFT', 4, 30)\n",
    "ledger.display_ledger()\n",
    "\n",
    "ledger.sell('MSFT', 2, 30)\n",
    "ledger.display_ledger()\n"
   ]
  }
 ],
 "metadata": {
  "kernelspec": {
   "display_name": "Python 3",
   "language": "python",
   "name": "python3"
  },
  "language_info": {
   "codemirror_mode": {
    "name": "ipython",
    "version": 3
   },
   "file_extension": ".py",
   "mimetype": "text/x-python",
   "name": "python",
   "nbconvert_exporter": "python",
   "pygments_lexer": "ipython3",
   "version": "3.11.1"
  }
 },
 "nbformat": 4,
 "nbformat_minor": 2
}
